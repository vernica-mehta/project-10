{
 "cells": [
  {
   "cell_type": "code",
   "execution_count": 5,
   "id": "9bda1127",
   "metadata": {},
   "outputs": [
    {
     "data": {
      "text/plain": [
       "<contextlib.ExitStack at 0x1063708c0>"
      ]
     },
     "execution_count": 5,
     "metadata": {},
     "output_type": "execute_result"
    }
   ],
   "source": [
    "from scipy.interpolate import RegularGridInterpolator\n",
    "from scipy.integrate import solve_ivp, cumulative_trapezoid\n",
    "import astropy.units as u\n",
    "import astropy.constants as c\n",
    "import numpy as np\n",
    "import astropy.io.fits as pyfits\n",
    "import matplotlib.pyplot as plt\n",
    "import opac\n",
    "from scipy.special import expn\n",
    "from strontium_barium import *\n",
    "plt.ion()"
   ]
  },
  {
   "cell_type": "markdown",
   "id": "b92b35e2",
   "metadata": {},
   "source": [
    "$$T^4(\\tau_H)=\\frac{\\kappa_J}{\\kappa_B}\\left[\\frac{3}{4}T_{eff}^4\\left(\\frac{1}{3f}\\tau_H+\\frac{1}{3g}\\right)+WT_{irr}^4\\right]$$\n",
    "\n",
    "In the Eddington approximation, one has\n",
    "\n",
    "$$T^4(\\tau_H)=\\frac{\\kappa_J}{\\kappa_B}\\left[\\frac{3}{4}T_{eff}^4\\left(\\frac{1}{3f}\\tau_H+\\frac{1}{3g}\\right)+WT_{irr}^4\\right]$$"
   ]
  },
  {
   "cell_type": "markdown",
   "id": "c2a9771b",
   "metadata": {},
   "source": [
    "$$T^4(\\tau_H)=\\frac{\\kappa_J}{\\kappa_B}\\frac{3}{4}T_{eff}^4\\left[\\tau_H+\\frac{1}{\\sqrt{3}}+\\frac{4W}{3}(\\frac{T_{irr}}{T_{eff}})^4\\right]$$"
   ]
  },
  {
   "cell_type": "markdown",
   "id": "1a9ebed9",
   "metadata": {},
   "source": [
    "If we assume that the incoming irradiation energy is evenly distributed over the irradiated hemisphere, then f = 1/2; if we assume that the incoming energy is redistributed over the whole surface, then f = 1/4. "
   ]
  },
  {
   "cell_type": "code",
   "execution_count": 9,
   "id": "47a4ab5f",
   "metadata": {},
   "outputs": [],
   "source": [
    "\n",
    "\n",
    "def T_tau(tau_h, Teff,Tirr,kappa_j,kappa_b,f):  \n",
    "\t\"\"\"\n",
    "\tTemperature for a simplified grey atmosphere\n",
    "\n",
    "\t\"\"\"\n",
    "\tr_solar = c.R_sun.value\n",
    "\tW = f*(r_solar/D)**2\n",
    "\n",
    "\tbrackets = tau_h + 1/np.sqrt(3)+4*W/3*(Tirr/Teff)**4\n",
    "\n",
    "\tT = (kappa_j/kappa_b)*3/4*Teff**4*(brackets)\n",
    "\n",
    "\treturn T"
   ]
  },
  {
   "cell_type": "code",
   "execution_count": null,
   "id": "7177ae7c",
   "metadata": {},
   "outputs": [],
   "source": []
  },
  {
   "cell_type": "code",
   "execution_count": null,
   "id": "6f3ce0da",
   "metadata": {},
   "outputs": [],
   "source": []
  }
 ],
 "metadata": {
  "kernelspec": {
   "display_name": "base",
   "language": "python",
   "name": "python3"
  },
  "language_info": {
   "codemirror_mode": {
    "name": "ipython",
    "version": 3
   },
   "file_extension": ".py",
   "mimetype": "text/x-python",
   "name": "python",
   "nbconvert_exporter": "python",
   "pygments_lexer": "ipython3",
   "version": "3.12.4"
  }
 },
 "nbformat": 4,
 "nbformat_minor": 5
}

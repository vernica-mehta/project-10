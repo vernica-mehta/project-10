{
 "cells": [
  {
   "cell_type": "code",
   "execution_count": 1,
   "id": "60b7cfea",
   "metadata": {},
   "outputs": [],
   "source": [
    "import numpy as np\n",
    "import matplotlib.pyplot as plt\n",
    "import astropy.units as u\n",
    "import astropy.constants as c"
   ]
  },
  {
   "cell_type": "code",
   "execution_count": 2,
   "id": "ba7fa527",
   "metadata": {},
   "outputs": [],
   "source": [
    "def planck(nu, T):\n",
    "\n",
    "    p1 = (8*np.pi*c.h*nu**3) / (c**3)\n",
    "    p2 = np.exp((c.h*nu)/(c.sigma_sb*T)) -1\n",
    "\n",
    "    return p1/p2"
   ]
  },
  {
   "cell_type": "code",
   "execution_count": 3,
   "id": "859a7acd",
   "metadata": {},
   "outputs": [],
   "source": [
    "def incoming_flux(T):\n",
    "\n",
    "    wavs = np.arange(0, 5000) * u.nm\n",
    "    freqs = (c.c / wavs).to(u.Hz)\n",
    "\n",
    "    return np.trapezoid(planck(freqs, T))"
   ]
  },
  {
   "cell_type": "code",
   "execution_count": 5,
   "id": "6b49a06b",
   "metadata": {},
   "outputs": [],
   "source": [
    "def correct_temp(T, F):\n",
    "\n",
    "    rhs = c.sigma_sb * T**4 + (1 - 0.503)*F # set A_B = 0.503 for Jupiter\n",
    "\n",
    "    return (rhs / c.sigma_sb)**0.25"
   ]
  },
  {
   "cell_type": "code",
   "execution_count": null,
   "id": "bd7b3c39",
   "metadata": {},
   "outputs": [],
   "source": []
  }
 ],
 "metadata": {
  "kernelspec": {
   "display_name": "Python 3",
   "language": "python",
   "name": "python3"
  },
  "language_info": {
   "codemirror_mode": {
    "name": "ipython",
    "version": 3
   },
   "file_extension": ".py",
   "mimetype": "text/x-python",
   "name": "python",
   "nbconvert_exporter": "python",
   "pygments_lexer": "ipython3",
   "version": "3.13.7"
  }
 },
 "nbformat": 4,
 "nbformat_minor": 5
}

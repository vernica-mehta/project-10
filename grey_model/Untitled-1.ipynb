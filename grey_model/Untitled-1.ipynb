{
 "cells": [
  {
   "cell_type": "code",
   "execution_count": 36,
   "id": "441310cc",
   "metadata": {},
   "outputs": [],
   "source": [
    "import numpy as np\n",
    "import astropy.units as u\n",
    "import astropy.constants as c"
   ]
  },
  {
   "cell_type": "code",
   "execution_count": 37,
   "id": "29d41e1c",
   "metadata": {},
   "outputs": [],
   "source": [
    "h_kB_cgs = (c.h/c.k_B).cgs.value"
   ]
  },
  {
   "cell_type": "code",
   "execution_count": null,
   "id": "8ea97e03",
   "metadata": {},
   "outputs": [],
   "source": [
    "def HeIbf(nu, T):\n",
    "    \"\"\"Compute the Helium bound-free cross sections in cgs units as a\n",
    "    function of temperature in K. Computed per atom. Computed using:\n",
    "    https://articles.adsabs.harvard.edu/pdf/1970SAOSR.309.....K\n",
    "    \n",
    "    Parameters\n",
    "    ----------\n",
    "    nu: Frequency or a list (numpy array) of frequencies.\n",
    "    \"\"\"\n",
    "    he_level =[# Level 1: 1S \n",
    "    [1,1,0.0,5.9447e15,[33.32,-2.0]],\n",
    "    # Level 2: 2^3S  \n",
    "    [2,3,19.819,1.1526e15,[-390.026,21.035,-0.318]],\n",
    "    # Level 3: 2^1S \n",
    "    [3,1,20.615,0.96025e15,[26.83,-1.91]],\n",
    "    # Level 4: 2^3P^0 \n",
    "    [4,9,20.964,0.87607e15,[61.21,-2.9]],\n",
    "    # Level 5: 2^1P^0 \n",
    "    [5,3,21.217,0.81465e15,[81.35,-3.5]],\n",
    "    # Level 6: 3^3S \n",
    "    [6,3,22.718,0.4519e15,[12.69,-1.54]],\n",
    "    # Level 7: 3^1S \n",
    "    [7,1,22.920,0.4031e15,[23.85,-1.86]],\n",
    "    # Level 8: 3^3P^0 \n",
    "    [8,9,23.006,0.3821e15,[49.30,-2.60]],\n",
    "    # Level 9: 3^3D+3^1D \n",
    "    [9,20,23.073,0.3659e15,[85.20,-3.69]],\n",
    "    # Level 11: 3^1P^0 \n",
    "    [11, 3, 23.086, 0.3628e15, [58.81, -2.89]]]\n",
    "\n",
    "\n",
    "\n",
    "    nu_val = nu.to_value(u.Hz) if hasattr(nu, 'unit') else nu\n",
    "    T_val = T.to_value(u.K) if hasattr(T, 'unit') else T\n",
    "    alpha = np.zeros_like(nu_val)\n",
    "    ev_kB_cgs = (1*u.eV/c.k_B).cgs.value\n",
    "\n",
    "    \n",
    "    for i in range(0,len(he_level)):\n",
    "        level = he_level[i][0]\n",
    "        g_i = he_level[i][1]\n",
    "        E_i_eV = he_level[i][2]\n",
    "        nu_threshold = he_level[i][3]\n",
    "        ln_a_i = he_level[i][4]\n",
    "\n",
    "        mask = nu_val >= nu_threshold\n",
    "\n",
    "        nu_masked = nu_val[mask]\n",
    "\n",
    "        if len(ln_a_i) == 2:\n",
    "            a = ln_a_i[0]\n",
    "            b = ln_a_i[1]\n",
    "            ln_a = a + b * np.log(nu_masked)\n",
    "        else:\n",
    "            a = ln_a_i[0]\n",
    "            b = ln_a_i[1]\n",
    "            c = ln_a_i[2]\n",
    "            ln_a = a + (b+c * np.log(nu_masked))*np.log(nu_masked)\n",
    "\n",
    "        # Note question for higher levels -> do I need to do n=> 4 differently \n",
    "\n",
    "        cross_section = np.exp(ln_a)\n",
    "        boltzmann_factor = g_i * np.exp(-E_i_eV * ev_kB_cgs / T_val)\n",
    "        \n",
    "        # total crossection \n",
    "        alpha[mask] += cross_section * boltzmann_factor\n",
    "    \n",
    "    return alpha * (1-np.exp(-h_kB_cgs*nu_val/T_val))\n",
    "\n",
    "\n",
    "\n"
   ]
  }
 ],
 "metadata": {
  "kernelspec": {
   "display_name": "base",
   "language": "python",
   "name": "python3"
  },
  "language_info": {
   "codemirror_mode": {
    "name": "ipython",
    "version": 3
   },
   "file_extension": ".py",
   "mimetype": "text/x-python",
   "name": "python",
   "nbconvert_exporter": "python",
   "pygments_lexer": "ipython3",
   "version": "3.11.6"
  }
 },
 "nbformat": 4,
 "nbformat_minor": 5
}
